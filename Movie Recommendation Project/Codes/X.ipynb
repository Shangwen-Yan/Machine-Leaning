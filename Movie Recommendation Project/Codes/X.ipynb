{
 "cells": [
  {
   "cell_type": "code",
   "execution_count": 1,
   "metadata": {
    "collapsed": true
   },
   "outputs": [],
   "source": [
    "import torch\n",
    "import pandas as pd \n",
    "from sklearn.model_selection import train_test_split\n",
    "import torch.nn as nn\n",
    "import torch.nn.functional as F\n",
    "import torch.optim as optim\n",
    "from torch.autograd import Variable\n",
    "import numpy as np\n",
    "import torch.utils.data as Data  \n",
    "import torchvision \n",
    "import matplotlib.pyplot as plt\n",
    "%matplotlib inline"
   ]
  },
  {
   "cell_type": "code",
   "execution_count": 2,
   "metadata": {},
   "outputs": [
    {
     "name": "stdout",
     "output_type": "stream",
     "text": [
      "1\n",
      "2\n",
      "3\n",
      "4\n"
     ]
    }
   ],
   "source": [
    "#path = 'movielens-20m-dataset'\n",
    "path = 'ml-latest-small'\n",
    "rating = pd.read_csv(\"./\"+path+\"/rating.csv\")\n",
    "rating = np.array(rating)\n",
    "print(1)\n",
    "movie = pd.read_csv(\"./\"+path+\"/movie.csv\")\n",
    "movie = np.array(movie)\n",
    "print(2)\n",
    "tag = pd.read_csv(\"./\"+path+\"/tag.csv\")\n",
    "tag = np.array(tag)\n",
    "print(3)\n",
    "genome_scores = pd.read_csv(\"./\"+path+\"/genome_scores.csv\")\n",
    "genome_scores = np.array(genome_scores)\n",
    "print(4)\n",
    "genome_tags = pd.read_csv(\"./\"+path+\"/genome_tags.csv\")\n",
    "genome_tags = np.array(genome_tags)"
   ]
  },
  {
   "cell_type": "markdown",
   "metadata": {},
   "source": [
    "### get nuser & nmovie"
   ]
  },
  {
   "cell_type": "code",
   "execution_count": 3,
   "metadata": {},
   "outputs": [
    {
     "name": "stdout",
     "output_type": "stream",
     "text": [
      "movie.shape (9125, 3)\n",
      "users1.shape (671,)\n",
      "users2.shape (61,)\n",
      "users.shape (671,)\n"
     ]
    }
   ],
   "source": [
    "print(\"movie.shape\",movie.shape)  \n",
    "users1 = np.unique(rating[:,0])\n",
    "print(\"users1.shape\",users1.shape)  \n",
    "users2 = np.unique(tag[:,0])\n",
    "print(\"users2.shape\",users2.shape)  \n",
    "users = np.unique(np.hstack((users1,users2)))\n",
    "print(\"users.shape\",users.shape) "
   ]
  },
  {
   "cell_type": "code",
   "execution_count": 4,
   "metadata": {
    "collapsed": true
   },
   "outputs": [],
   "source": [
    "nuser = users.shape[0]\n",
    "nmovie = movie.shape[0]"
   ]
  },
  {
   "cell_type": "code",
   "execution_count": 5,
   "metadata": {
    "collapsed": true
   },
   "outputs": [],
   "source": [
    "X = torch.Tensor(nuser,nmovie, 5)  # | rate | mean_rate | tag | relevance | genre(int) |"
   ]
  },
  {
   "cell_type": "code",
   "execution_count": 7,
   "metadata": {},
   "outputs": [
    {
     "name": "stdout",
     "output_type": "stream",
     "text": [
      "(100004, 2)\n"
     ]
    }
   ],
   "source": [
    "matrix_rate = np.ones((rating.shape[0],2))\n",
    "print(matrix_rate.shape)"
   ]
  },
  {
   "cell_type": "code",
   "execution_count": 15,
   "metadata": {},
   "outputs": [
    {
     "name": "stdout",
     "output_type": "stream",
     "text": [
      "(100004, 4)\n",
      "0\n"
     ]
    }
   ],
   "source": [
    "#算mean_rate\n",
    "print(rating.shape) #(20000263, 4)\n",
    "for i in range(rating.shape[0]):\n",
    "    movieId,rate = rating[i,1:3]\n",
    "    movieId = movieId.astype(int)\n",
    "    if(movieId <= nmovie and rate != str):\n",
    "        matrix_rate[movieId-1,0] = matrix_rate[movieId-1,0] + rate\n",
    "        matrix_rate[movieId-1,1] = matrix_rate[movieId-1,1] + 1\n",
    "    if(i%1000000 == 0):\n",
    "        print(i)"
   ]
  },
  {
   "cell_type": "code",
   "execution_count": 16,
   "metadata": {},
   "outputs": [],
   "source": [
    "mean_rate = matrix_rate[:,0]/matrix_rate[:,1]\n",
    "#mean_rate.shape #(20000263,)"
   ]
  },
  {
   "cell_type": "code",
   "execution_count": 52,
   "metadata": {},
   "outputs": [
    {
     "name": "stdout",
     "output_type": "stream",
     "text": [
      "0\n"
     ]
    }
   ],
   "source": [
    "#save user's rate\n",
    "for i in range(rating.shape[0]):\n",
    "    userId,movieId,rate = rating[i,0:3]\n",
    "    movieId = movieId.astype(int)\n",
    "    if(movieId <= nmovie and rate != str):   #有的rating里的movieId,MOVIE表里没有\n",
    "        X[userId - 1,movieId - 1,0] = rate\n",
    "    if(i%1000000 == 0):\n",
    "        print(i)"
   ]
  },
  {
   "cell_type": "code",
   "execution_count": 18,
   "metadata": {},
   "outputs": [
    {
     "name": "stdout",
     "output_type": "stream",
     "text": [
      "0\n"
     ]
    }
   ],
   "source": [
    "#save mean_rate 巨慢。。。\n",
    "\n",
    "for i in range(nmovie):\n",
    "    X[:,i,1] = mean_rate[i]\n",
    "    if(i%1000000 == 0):\n",
    "        print(i)\n"
   ]
  },
  {
   "cell_type": "code",
   "execution_count": null,
   "metadata": {},
   "outputs": [],
   "source": [
    "'''\n",
    "X_file = X.numpy()\n",
    "np.save(\"X_file.npy\",X_file)\n",
    "'''"
   ]
  },
  {
   "cell_type": "code",
   "execution_count": 69,
   "metadata": {},
   "outputs": [
    {
     "name": "stdout",
     "output_type": "stream",
     "text": [
      "0\n"
     ]
    },
    {
     "ename": "KeyboardInterrupt",
     "evalue": "",
     "output_type": "error",
     "traceback": [
      "\u001b[0;31m---------------------------------------------------------------------------\u001b[0m",
      "\u001b[0;31mKeyboardInterrupt\u001b[0m                         Traceback (most recent call last)",
      "\u001b[0;32m<ipython-input-69-155d63b98abd>\u001b[0m in \u001b[0;36m<module>\u001b[0;34m()\u001b[0m\n\u001b[1;32m      8\u001b[0m             \u001b[0mX\u001b[0m\u001b[0;34m[\u001b[0m\u001b[0muserId\u001b[0m \u001b[0;34m-\u001b[0m \u001b[0;36m1\u001b[0m\u001b[0;34m,\u001b[0m\u001b[0mmovieId\u001b[0m \u001b[0;34m-\u001b[0m \u001b[0;36m1\u001b[0m\u001b[0;34m,\u001b[0m\u001b[0;36m2\u001b[0m\u001b[0;34m]\u001b[0m \u001b[0;34m=\u001b[0m \u001b[0mfloat\u001b[0m\u001b[0;34m(\u001b[0m\u001b[0mtagId\u001b[0m\u001b[0;34m)\u001b[0m\u001b[0;34m\u001b[0m\u001b[0m\n\u001b[1;32m      9\u001b[0m             \u001b[0;32mfor\u001b[0m \u001b[0mj\u001b[0m \u001b[0;32min\u001b[0m \u001b[0mrange\u001b[0m\u001b[0;34m(\u001b[0m\u001b[0mgenome_scores\u001b[0m\u001b[0;34m.\u001b[0m\u001b[0mshape\u001b[0m\u001b[0;34m[\u001b[0m\u001b[0;36m0\u001b[0m\u001b[0;34m]\u001b[0m\u001b[0;34m)\u001b[0m\u001b[0;34m:\u001b[0m\u001b[0;34m\u001b[0m\u001b[0m\n\u001b[0;32m---> 10\u001b[0;31m                 \u001b[0;32mif\u001b[0m\u001b[0;34m(\u001b[0m\u001b[0mgenome_scores\u001b[0m\u001b[0;34m[\u001b[0m\u001b[0mj\u001b[0m\u001b[0;34m,\u001b[0m\u001b[0;36m0\u001b[0m\u001b[0;34m]\u001b[0m \u001b[0;34m==\u001b[0m \u001b[0mmovieId\u001b[0m \u001b[0;32mand\u001b[0m \u001b[0mgenome_scores\u001b[0m\u001b[0;34m[\u001b[0m\u001b[0mj\u001b[0m\u001b[0;34m,\u001b[0m\u001b[0;36m1\u001b[0m\u001b[0;34m]\u001b[0m \u001b[0;34m==\u001b[0m \u001b[0mtagId\u001b[0m\u001b[0;34m)\u001b[0m\u001b[0;34m:\u001b[0m\u001b[0;34m\u001b[0m\u001b[0m\n\u001b[0m\u001b[1;32m     11\u001b[0m                     \u001b[0mX\u001b[0m\u001b[0;34m[\u001b[0m\u001b[0muserId\u001b[0m \u001b[0;34m-\u001b[0m \u001b[0;36m1\u001b[0m\u001b[0;34m,\u001b[0m\u001b[0mmovieId\u001b[0m \u001b[0;34m-\u001b[0m \u001b[0;36m1\u001b[0m\u001b[0;34m,\u001b[0m\u001b[0;36m3\u001b[0m\u001b[0;34m]\u001b[0m \u001b[0;34m=\u001b[0m \u001b[0mgenome_scores\u001b[0m\u001b[0;34m[\u001b[0m\u001b[0mj\u001b[0m\u001b[0;34m,\u001b[0m\u001b[0;36m2\u001b[0m\u001b[0;34m]\u001b[0m\u001b[0;34m\u001b[0m\u001b[0m\n\u001b[1;32m     12\u001b[0m     \u001b[0;32mif\u001b[0m\u001b[0;34m(\u001b[0m\u001b[0mi\u001b[0m\u001b[0;34m%\u001b[0m\u001b[0;36m1000000\u001b[0m \u001b[0;34m==\u001b[0m \u001b[0;36m0\u001b[0m\u001b[0;34m)\u001b[0m\u001b[0;34m:\u001b[0m\u001b[0;34m\u001b[0m\u001b[0m\n",
      "\u001b[0;31mKeyboardInterrupt\u001b[0m: "
     ]
    }
   ],
   "source": [
    "#save user's tag： tensor里只能存同一种数据类型的变量\n",
    "#超级慢。。\n",
    "for i in range(tag.shape[0]):\n",
    "    userId,movieId,tag_desc = tag[i,0:3]\n",
    "    #判断tagId是否存在\n",
    "    if(np.where(genome_tags[:,1] == tag_desc)[0].size != 0):\n",
    "        tagId = np.where(genome_tags == tag_desc)[0][0]\n",
    "        if(movieId <= nmovie ):   #有的rating里的movieId,MOVIE表里没有\n",
    "            X[userId - 1,movieId - 1,2] = float(tagId)\n",
    "            '''for j in range(genome_scores.shape[0]):\n",
    "                if(genome_scores[j,0] == movieId and genome_scores[j,1] == tagId):\n",
    "                    X[userId - 1,movieId - 1,3] = genome_scores[j,2]'''\n",
    "    if(i%10000 == 0):\n",
    "        print(i)\n"
   ]
  },
  {
   "cell_type": "code",
   "execution_count": 93,
   "metadata": {
    "collapsed": true
   },
   "outputs": [],
   "source": [
    "genre_list = np.array(['Action','Adventure','Animation','Children','Comedy','Crime','Documentary','Drama','Fantasy','Film-Noir','Horror','Musical','Mystery','Romance','Sci-Fi','Thriller','War','Western'])"
   ]
  },
  {
   "cell_type": "code",
   "execution_count": 95,
   "metadata": {},
   "outputs": [],
   "source": [
    "#save genre\n",
    "for i in range(movie.shape[0]):\n",
    "    movieId, genres = movie[i,(0,2)]\n",
    "    genres_split = genres.split('|')\n",
    "    for genre in genres_split:\n",
    "        x = 0\n",
    "        index = np.where(genre_list ==genre)[0]\n",
    "        if(index.size > 0):\n",
    "            x = x + 2**index\n",
    "    if(movieId <= nmovie ):\n",
    "        X[:,movieId - 1,4] = float(x)"
   ]
  },
  {
   "cell_type": "code",
   "execution_count": 75,
   "metadata": {},
   "outputs": [],
   "source": [
    "genres_split = genres.split('|')"
   ]
  },
  {
   "cell_type": "code",
   "execution_count": 84,
   "metadata": {},
   "outputs": [],
   "source": [
    "genre_list = np.array(['Action','Adventure','Animation','Children','Comedy','Crime','Documentary','Drama','Fantasy','Film-Noir','Horror','Musical','Mystery','Romance','Sci-Fi','Thriller','War','Western'])"
   ]
  }
 ],
 "metadata": {
  "kernelspec": {
   "display_name": "Python 3",
   "language": "python",
   "name": "python3"
  },
  "language_info": {
   "codemirror_mode": {
    "name": "ipython",
    "version": 3
   },
   "file_extension": ".py",
   "mimetype": "text/x-python",
   "name": "python",
   "nbconvert_exporter": "python",
   "pygments_lexer": "ipython3",
   "version": "3.6.1"
  }
 },
 "nbformat": 4,
 "nbformat_minor": 2
}
